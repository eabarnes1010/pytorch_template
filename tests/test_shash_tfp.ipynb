{
 "cells": [
  {
   "cell_type": "code",
   "execution_count": null,
   "id": "1b6367b9-59ff-4715-a429-5acb1b4c3c12",
   "metadata": {
    "pycharm": {
     "name": "#%%\n"
    }
   },
   "outputs": [],
   "source": [
    "import numpy as np\n",
    "import matplotlib.pyplot as plt\n",
    "import torch\n",
    "from shash.shash_torch import Shash\n",
    "import random\n",
    "\n",
    "__author__ = \"Randal J. Barnes and Elizabeth A. Barnes\"\n",
    "__date__ = \"15 October 2021\""
   ]
  },
  {
   "cell_type": "code",
   "execution_count": null,
   "id": "b78f4706-b1c6-4ac2-a3bd-99efb9d2176d",
   "metadata": {
    "pycharm": {
     "name": "#%%\n"
    }
   },
   "outputs": [],
   "source": [
    "SEED = 31415\n",
    "torch.manual_seed(SEED)\n",
    "torch.cuda.manual_seed(SEED)\n",
    "np.random.seed(SEED)\n",
    "random.seed(SEED)\n",
    "torch.backends.cudnn.deterministic = True"
   ]
  },
  {
   "cell_type": "markdown",
   "id": "3ab86a8a-5cc1-4047-901d-29196b748251",
   "metadata": {
    "pycharm": {
     "name": "#%% md\n"
    }
   },
   "source": [
    "# Test the routines"
   ]
  },
  {
   "cell_type": "code",
   "execution_count": null,
   "id": "c2c01101-6779-4800-81ae-0fe3ed6fdb58",
   "metadata": {
    "pycharm": {
     "name": "#%%\n"
    },
    "tags": []
   },
   "outputs": [],
   "source": [
    "xmin = -3\n",
    "xmax = 9\n",
    "n = 1000\n",
    "\n",
    "x = torch.linspace(xmin, xmax, n)\n",
    "\n",
    "shash_params = torch.ones(size=(x.shape[0], 4))\n",
    "\n",
    "shash_params[:, 0] = shash_params[:, 0]\n",
    "shash_params[:, 1] = 2 * shash_params[:, 1]\n",
    "shash_params[:, 2] = 0.5 * shash_params[:, 2]\n",
    "shash_params[:, 3] = 1.5 * shash_params[:, 3]"
   ]
  },
  {
   "cell_type": "markdown",
   "id": "b58f43cd-4652-4be8-b1aa-923892a5072d",
   "metadata": {
    "pycharm": {
     "name": "#%% md\n"
    }
   },
   "source": [
    "## Test the pdf"
   ]
  },
  {
   "cell_type": "code",
   "execution_count": null,
   "id": "78261012-cce5-4b95-bc66-9440176dad99",
   "metadata": {
    "pycharm": {
     "name": "#%%\n"
    }
   },
   "outputs": [],
   "source": [
    "dist = Shash(shash_params)\n",
    "f = dist.prob(x)\n",
    "print(f\"Total area under the pdf = {(xmax - xmin) * torch.mean(f, axis=-1)}\")\n",
    "\n",
    "plt.plot(x, f, \"-\")\n",
    "plt.title(\"PDF\")\n",
    "plt.show()"
   ]
  },
  {
   "cell_type": "markdown",
   "id": "d8e7b043-c0e5-4b30-9d69-92573cd450e7",
   "metadata": {
    "pycharm": {
     "name": "#%% md\n"
    }
   },
   "source": [
    "## Compare prob to the tfp version."
   ]
  },
  {
   "cell_type": "code",
   "execution_count": null,
   "id": "a700e88d-c108-4d0f-8fda-e61518ad0850",
   "metadata": {
    "pycharm": {
     "name": "#%%\n"
    }
   },
   "outputs": [],
   "source": [
    "# tfp_shash = tfp.distributions.SinhArcsinh(\n",
    "#     loc=mu, scale=sigma, skewness=gamma, tailweight=tau\n",
    "# )\n",
    "# f_tfp = tfp_shash.prob(x)\n",
    "\n",
    "# plt.plot(x, f, \"-\", x, f_tfp, \"-\")\n",
    "# plt.title(\"PDF\")"
   ]
  },
  {
   "cell_type": "markdown",
   "id": "4dbec5d4-cb3f-44ad-85bc-a64a70228d24",
   "metadata": {
    "pycharm": {
     "name": "#%% md\n"
    }
   },
   "source": [
    "## Test the cdf"
   ]
  },
  {
   "cell_type": "code",
   "execution_count": null,
   "id": "9362186a-5d32-481b-af0d-398f53c85cfb",
   "metadata": {
    "jupyter": {
     "source_hidden": true
    },
    "pycharm": {
     "name": "#%%\n"
    },
    "tags": []
   },
   "outputs": [],
   "source": [
    "F = dist.cdf(x)\n",
    "\n",
    "plt.plot(x, F, \"-\")\n",
    "plt.title(\"CDF\")\n",
    "plt.show()"
   ]
  },
  {
   "cell_type": "code",
   "execution_count": null,
   "id": "af843de0-fcb8-4e03-afa4-4c81a885257e",
   "metadata": {
    "pycharm": {
     "name": "#%%\n"
    }
   },
   "outputs": [],
   "source": [
    "xx = torch.linspace(1, 3, n)\n",
    "f = dist.prob(xx)\n",
    "F = dist.cdf(xx)\n",
    "\n",
    "area_by_pdf = (3 - 1) * torch.mean(f, axis=-1)\n",
    "area_by_cdf = F[-1] - F[0]\n",
    "\n",
    "print(f\"integral of the pdf from 1 to 3 = {area_by_pdf}\")\n",
    "print(f\"cdf(3) - cdf(1) = {area_by_cdf}\")\n",
    "print(f\"error = {area_by_pdf - area_by_cdf}\")"
   ]
  },
  {
   "cell_type": "markdown",
   "id": "4ccce87d-0439-4d58-8f9e-761198b002de",
   "metadata": {
    "pycharm": {
     "name": "#%% md\n"
    }
   },
   "source": [
    "## Test the quantile vs. the cdf"
   ]
  },
  {
   "cell_type": "code",
   "execution_count": null,
   "id": "223dc8f4-2905-425d-893d-dd9192b420d6",
   "metadata": {
    "pycharm": {
     "name": "#%%\n"
    },
    "tags": []
   },
   "outputs": [],
   "source": [
    "pr = torch.linspace(0.0001, 0.9999, n)\n",
    "xx = dist.quantile(pr)\n",
    "F = dist.cdf(xx)\n",
    "\n",
    "plt.plot(xx, F - pr, \"-\")\n",
    "plt.title(\"CDF to quantiles inversion errors\")"
   ]
  },
  {
   "cell_type": "markdown",
   "id": "f4fd08d9-519a-491e-b161-43e6010a20fa",
   "metadata": {
    "pycharm": {
     "name": "#%% md\n"
    }
   },
   "source": [
    "# Test the computed distribution properties"
   ]
  },
  {
   "cell_type": "code",
   "execution_count": null,
   "id": "1a21dd99-2e28-4b96-bc9c-9de5d51c89cd",
   "metadata": {
    "pycharm": {
     "name": "#%%\n"
    }
   },
   "outputs": [],
   "source": [
    "NTEST = 100\n",
    "NN = 100000\n",
    "\n",
    "mu = tf.random.uniform(shape=[NTEST, 1], minval=-1, maxval=1)\n",
    "sigma = tf.random.uniform(shape=[NTEST, 1], minval=1, maxval=2)\n",
    "gamma = tf.random.uniform(shape=[NTEST, 1], minval=-1, maxval=1)\n",
    "tau = tf.random.uniform(shape=[NTEST, 1], minval=1, maxval=2)"
   ]
  },
  {
   "cell_type": "markdown",
   "id": "63ef996f-4698-4405-95f5-1e0ce0f9d8c3",
   "metadata": {
    "pycharm": {
     "name": "#%% md\n"
    }
   },
   "source": [
    "## Test the median by comparison with quantile at 0.5"
   ]
  },
  {
   "cell_type": "code",
   "execution_count": null,
   "id": "71947d51-2ad6-47f4-970f-0aae100cab56",
   "metadata": {
    "pycharm": {
     "name": "#%%\n"
    }
   },
   "outputs": [],
   "source": [
    "median_target = shash.quantile(0.5 * tf.ones(shape=[NTEST, 1]), mu, sigma, gamma, tau)\n",
    "median_compute = shash.median(mu, sigma, gamma, tau)\n",
    "error = median_compute - median_target\n",
    "\n",
    "print(f\"max median error = {tf.math.reduce_max(error)}\")\n",
    "print(f\"min median error = {tf.math.reduce_min(error)}\")"
   ]
  },
  {
   "cell_type": "markdown",
   "id": "efe31efa-a706-41ca-bf10-4c0f00904c13",
   "metadata": {
    "pycharm": {
     "name": "#%% md\n"
    }
   },
   "source": [
    "## Test the mean by numerical integration"
   ]
  },
  {
   "cell_type": "code",
   "execution_count": null,
   "id": "2586d433-077e-4de6-8ce0-210344765d7d",
   "metadata": {
    "pycharm": {
     "name": "#%%\n"
    }
   },
   "outputs": [],
   "source": [
    "mean_target = np.zeros([NTEST, 1])\n",
    "\n",
    "lb = shash.quantile(0.00001 * tf.ones(shape=[NTEST, 1]), mu, sigma, gamma, tau)\n",
    "ub = shash.quantile(0.99999 * tf.ones(shape=[NTEST, 1]), mu, sigma, gamma, tau)\n",
    "\n",
    "for i in range(NTEST):\n",
    "    xx = tf.cast(tf.linspace(lb[i], ub[i], NN), dtype=tf.float32)\n",
    "    ff = shash.prob(xx, mu[i], sigma[i], gamma[i], tau[i])\n",
    "    mean_target[i] = tf.reduce_mean(xx * ff) * (ub[i] - lb[i])\n",
    "\n",
    "mean_compute = shash.mean(mu, sigma, gamma, tau)\n",
    "error = mean_compute - mean_target\n",
    "\n",
    "print(f\"max mean error = {tf.math.reduce_max(error):.6f}\")\n",
    "print(f\"min mean error = {tf.math.reduce_min(error):.6f}\")"
   ]
  },
  {
   "cell_type": "markdown",
   "id": "433889e0-3e9d-4fa2-895a-c3b014bda09f",
   "metadata": {
    "pycharm": {
     "name": "#%% md\n"
    }
   },
   "source": [
    "## Test the standard deviation by numerical integration"
   ]
  },
  {
   "cell_type": "code",
   "execution_count": null,
   "id": "7f77652a-e1a1-41de-940a-da16a28a0b44",
   "metadata": {
    "pycharm": {
     "name": "#%%\n"
    }
   },
   "outputs": [],
   "source": [
    "stddev_target = np.zeros([NTEST, 1])\n",
    "mean_compute = shash.mean(mu, sigma, gamma, tau)\n",
    "\n",
    "lb = shash.quantile(0.00001 * tf.ones(shape=[NTEST, 1]), mu, sigma, gamma, tau)\n",
    "ub = shash.quantile(0.99999 * tf.ones(shape=[NTEST, 1]), mu, sigma, gamma, tau)\n",
    "\n",
    "for i in range(NTEST):\n",
    "    xx = tf.cast(tf.linspace(lb[i], ub[i], NN), dtype=tf.float32)\n",
    "    zz = tf.math.square(xx - mean_compute[i])\n",
    "    ff = shash.prob(xx, mu[i], sigma[i], gamma[i], tau[i])\n",
    "    stddev_target[i] = tf.sqrt(tf.reduce_mean(zz * ff) * (ub[i] - lb[i]))\n",
    "\n",
    "stddev_compute = shash.stddev(mu, sigma, gamma, tau)\n",
    "error = stddev_compute - stddev_target\n",
    "\n",
    "print(f\"max stddev error = {tf.math.reduce_max(error):.6f}\")\n",
    "print(f\"min stddev error = {tf.math.reduce_min(error):.6f}\")"
   ]
  },
  {
   "cell_type": "markdown",
   "id": "616ac627-13fb-4e0f-a06d-f2ccdb919871",
   "metadata": {
    "pycharm": {
     "name": "#%% md\n"
    }
   },
   "source": [
    "## Test the variance by numerical integration"
   ]
  },
  {
   "cell_type": "code",
   "execution_count": null,
   "id": "060294a0-e98e-4fe8-8e74-5c84becf06a5",
   "metadata": {
    "pycharm": {
     "name": "#%%\n"
    },
    "tags": []
   },
   "outputs": [],
   "source": [
    "variance_target = np.zeros([NTEST, 1])\n",
    "mean_compute = shash.mean(mu, sigma, gamma, tau)\n",
    "\n",
    "lb = shash.quantile(0.00001 * tf.ones(shape=[NTEST, 1]), mu, sigma, gamma, tau)\n",
    "ub = shash.quantile(0.99999 * tf.ones(shape=[NTEST, 1]), mu, sigma, gamma, tau)\n",
    "\n",
    "for i in range(NTEST):\n",
    "    xx = tf.cast(tf.linspace(lb[i], ub[i], NN), dtype=tf.float32)\n",
    "    zz = tf.math.square(xx - mean_compute[i])\n",
    "    ff = shash.prob(xx, mu[i], sigma[i], gamma[i], tau[i])\n",
    "    variance_target[i] = tf.reduce_mean(zz * ff) * (ub[i] - lb[i])\n",
    "\n",
    "variance_compute = shash.variance(mu, sigma, gamma, tau)\n",
    "error = variance_compute - variance_target\n",
    "\n",
    "print(f\"max variance error = {tf.math.reduce_max(error):.6f}\")\n",
    "print(f\"min variance error = {tf.math.reduce_min(error):.6f}\")"
   ]
  },
  {
   "cell_type": "markdown",
   "id": "7d551914-6268-4da3-843f-58a61afa4448",
   "metadata": {
    "pycharm": {
     "name": "#%% md\n"
    }
   },
   "source": [
    "## Test the random number generator"
   ]
  },
  {
   "cell_type": "code",
   "execution_count": null,
   "id": "619cf45f-713e-4176-b0a5-54ab0fb44506",
   "metadata": {
    "pycharm": {
     "name": "#%%\n"
    }
   },
   "outputs": [],
   "source": [
    "mu_v = 1.0\n",
    "sigma_v = 2.0\n",
    "gamma_v = 1.2\n",
    "tau_v = 0.8\n",
    "\n",
    "v = shash.rvs(mu_v, sigma_v, gamma_v, tau_v, size=1000000)\n",
    "plt.hist(v, bins=50)\n",
    "\n",
    "print(f\"mean error = {np.mean(v) - shash.mean(mu_v, sigma_v, gamma_v, tau_v):.6f}\")\n",
    "print(f\"std error  = {np.std(v) - shash.stddev(mu_v, sigma_v, gamma_v, tau_v):.6f}\")"
   ]
  },
  {
   "cell_type": "markdown",
   "id": "54b2de80-c603-41bd-a543-9d5036436b4e",
   "metadata": {
    "pycharm": {
     "name": "#%% md\n"
    }
   },
   "source": [
    "## Test the special 3 parameter SHASH"
   ]
  },
  {
   "cell_type": "code",
   "execution_count": null,
   "id": "82c0bbbe-7c60-40df-99c6-988a8a8ca74d",
   "metadata": {
    "pycharm": {
     "name": "#%%\n"
    }
   },
   "outputs": [],
   "source": [
    "x = tf.random.uniform(shape=[NTEST, 1], minval=-2, maxval=2)\n",
    "pr = tf.random.uniform(shape=[NTEST, 1], minval=0.01, maxval=0.99)\n",
    "\n",
    "mu = tf.random.uniform(shape=[NTEST, 1], minval=-2, maxval=2)\n",
    "sigma = tf.random.uniform(shape=[NTEST, 1], minval=1, maxval=2)\n",
    "gamma = tf.random.uniform(shape=[NTEST, 1], minval=-1, maxval=1)\n",
    "tau = tf.ones((NTEST, 1))"
   ]
  },
  {
   "cell_type": "code",
   "execution_count": null,
   "id": "8c8443a0-f08d-4039-b7ca-a9fd86fd06b3",
   "metadata": {
    "pycharm": {
     "name": "#%%\n"
    }
   },
   "outputs": [],
   "source": [
    "max_diff = max(\n",
    "    np.abs(shash.cdf(x, mu, sigma, gamma, tau) - shash.cdf(x, mu, sigma, gamma))\n",
    ")\n",
    "print(max_diff)\n",
    "\n",
    "max_diff = max(\n",
    "    np.abs(\n",
    "        shash.log_prob(x, mu, sigma, gamma, tau) - shash.log_prob(x, mu, sigma, gamma)\n",
    "    )\n",
    ")\n",
    "print(max_diff)\n",
    "\n",
    "max_diff = max(np.abs(shash.mean(mu, sigma, gamma, tau) - shash.mean(mu, sigma, gamma)))\n",
    "print(max_diff)\n",
    "\n",
    "max_diff = max(\n",
    "    np.abs(shash.median(mu, sigma, gamma, tau) - shash.median(mu, sigma, gamma))\n",
    ")\n",
    "print(max_diff)\n",
    "\n",
    "max_diff = max(\n",
    "    np.abs(shash.prob(x, mu, sigma, gamma, tau) - shash.prob(x, mu, sigma, gamma))\n",
    ")\n",
    "print(max_diff)\n",
    "\n",
    "max_diff = max(\n",
    "    np.abs(\n",
    "        shash.quantile(pr, mu, sigma, gamma, tau) - shash.quantile(pr, mu, sigma, gamma)\n",
    "    )\n",
    ")\n",
    "print(max_diff)\n",
    "\n",
    "max_diff = max(\n",
    "    np.abs(shash.stddev(mu, sigma, gamma, tau) - shash.stddev(mu, sigma, gamma))\n",
    ")\n",
    "print(max_diff)\n",
    "\n",
    "max_diff = max(\n",
    "    np.abs(shash.variance(mu, sigma, gamma, tau) - shash.variance(mu, sigma, gamma))\n",
    ")\n",
    "print(max_diff)"
   ]
  },
  {
   "cell_type": "code",
   "execution_count": null,
   "id": "fb739575-75e4-4147-ab7f-4dbbbeb2be8c",
   "metadata": {
    "pycharm": {
     "name": "#%%\n"
    }
   },
   "outputs": [],
   "source": []
  }
 ],
 "metadata": {
  "kernelspec": {
   "display_name": "Python 3 (ipykernel)",
   "language": "python",
   "name": "python3"
  },
  "language_info": {
   "codemirror_mode": {
    "name": "ipython",
    "version": 3
   },
   "file_extension": ".py",
   "mimetype": "text/x-python",
   "name": "python",
   "nbconvert_exporter": "python",
   "pygments_lexer": "ipython3",
   "version": "3.10.10"
  }
 },
 "nbformat": 4,
 "nbformat_minor": 5
}
