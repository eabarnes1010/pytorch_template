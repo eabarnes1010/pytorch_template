{
 "cells": [
  {
   "cell_type": "code",
   "execution_count": 1,
   "metadata": {},
   "outputs": [],
   "source": [
    "import torch\n",
    "import pickle\n",
    "import random\n",
    "import matplotlib.pyplot as plt\n",
    "import numpy as np\n",
    "import torchsummary\n",
    "import importlib as imp\n",
    "\n",
    "import data_loader.data_loader as data_loader\n",
    "from trainer.trainer import Trainer\n",
    "from model.model import TorchModel\n",
    "from utils import prepare_device\n",
    "from model.loss import GaussianNLL, ShashNLL\n",
    "\n",
    "torch.set_warn_always(False)\n",
    "\n",
    "# https://github.com/victoresque/pytorch-template/tree/master\n",
    "\n",
    "# TODO: code up shash\n",
    "# TODO: add a logger\n",
    "# TODO: add metrics\n",
    "# TODO: change from settings to config files"
   ]
  },
  {
   "cell_type": "code",
   "execution_count": null,
   "metadata": {},
   "outputs": [],
   "source": [
    "settings = {\n",
    "    \"batch_size\": 32,\n",
    "    \"device\": \"gpu\",\n",
    "    \"max_epochs\": 10_000,\n",
    "    \"learning_rate\": 0.00001,\n",
    "    \"patience\": 2,\n",
    "    \"min_delta\": 0.05,\n",
    "    \"criterion\": ShashNLL(),\n",
    "}"
   ]
  },
  {
   "cell_type": "code",
   "execution_count": null,
   "metadata": {},
   "outputs": [],
   "source": [
    "trainset = data_loader.CustomData(\"data/train_data.pickle\")\n",
    "valset = data_loader.CustomData(\"data/val_data.pickle\")\n",
    "train_loader = torch.utils.data.DataLoader(\n",
    "    trainset, batch_size=settings[\"batch_size\"], shuffle=True\n",
    ")\n",
    "val_loader = torch.utils.data.DataLoader(\n",
    "    valset, batch_size=settings[\"batch_size\"], shuffle=False\n",
    ")\n"
   ]
  },
  {
   "cell_type": "code",
   "execution_count": null,
   "metadata": {},
   "outputs": [
    {
     "name": "stderr",
     "output_type": "stream",
     "text": [
      "/opt/homebrew/Caskroom/miniforge/base/envs/env-torch-sonoma/lib/python3.10/site-packages/torch/nn/modules/lazy.py:180: UserWarning: Lazy modules are a new feature under heavy development so changes to the API or functionality can happen at any moment.\n",
      "  warnings.warn('Lazy modules are a new feature under heavy development '\n"
     ]
    }
   ],
   "source": [
    "SEED = 44\n",
    "torch.manual_seed(SEED)\n",
    "torch.cuda.manual_seed(SEED)\n",
    "np.random.seed(SEED)\n",
    "random.seed(SEED)\n",
    "torch.backends.cudnn.deterministic = True\n",
    "\n",
    "\n",
    "trainset = data_loader.CustomData(\"data/train_data.pickle\")\n",
    "valset = data_loader.CustomData(\"data/val_data.pickle\")\n",
    "train_loader = torch.utils.data.DataLoader(\n",
    "    trainset, batch_size=settings[\"batch_size\"], shuffle=True\n",
    ")\n",
    "val_loader = torch.utils.data.DataLoader(\n",
    "    valset, batch_size=settings[\"batch_size\"], shuffle=False\n",
    ")\n",
    "\n",
    "model = TorchModel(target=trainset.target)\n",
    "# torchsummary.summary(model, [trainset.input[0].shape, trainset.input_unit[0][np.newaxis, np.newaxis, np.newaxis].shape])\n",
    "\n",
    "device = prepare_device(settings[\"device\"])\n",
    "model = model.to(device)\n",
    "\n",
    "optimizer = torch.optim.Adam(model.parameters(), lr=settings[\"learning_rate\"])\n",
    "\n",
    "trainer = Trainer(\n",
    "    model,\n",
    "    settings[\"criterion\"],\n",
    "    optimizer,\n",
    "    max_epochs=settings[\"max_epochs\"],\n",
    "    device=device,\n",
    "    data_loader=train_loader,\n",
    "    validation_data_loader=val_loader,\n",
    "    settings=settings,\n",
    ")"
   ]
  },
  {
   "cell_type": "code",
   "execution_count": null,
   "metadata": {},
   "outputs": [
    {
     "name": "stdout",
     "output_type": "stream",
     "text": [
      "Epoch   0/10000\n",
      "  9.2s - train_loss: 1.36000 - val_loss: 1.31688\n",
      "Epoch   1/10000\n",
      "  8.3s - train_loss: 1.31893 - val_loss: 1.29012\n",
      "Restoring model weights from the end of the best epoch 0: val_loss = 1.31688\n"
     ]
    }
   ],
   "source": [
    "trainer.fit()"
   ]
  },
  {
   "cell_type": "code",
   "execution_count": null,
   "metadata": {},
   "outputs": [
    {
     "data": {
      "text/plain": [
       "array([[ 1.5274987 ,  1.0101194 , -0.24972615,  1.        ],\n",
       "       [ 1.5281193 ,  1.0087178 , -0.25303507,  1.        ],\n",
       "       [ 1.5300001 ,  1.0101832 , -0.2542516 ,  1.        ]],\n",
       "      dtype=float32)"
      ]
     },
     "execution_count": 6,
     "metadata": {},
     "output_type": "execute_result"
    }
   ],
   "source": [
    "input = torch.Tensor(valset.input[:3]).to(device)\n",
    "input_unit = torch.Tensor(valset.input_unit[:3]).to(device)\n",
    "with torch.no_grad():\n",
    "  pred = model(input, input_unit)\n",
    "pred = pred.cpu().numpy()\n",
    "pred"
   ]
  },
  {
   "cell_type": "code",
   "execution_count": null,
   "metadata": {},
   "outputs": [
    {
     "data": {
      "text/plain": [
       "[<matplotlib.lines.Line2D at 0x17bf8e890>]"
      ]
     },
     "execution_count": 7,
     "metadata": {},
     "output_type": "execute_result"
    },
    {
     "data": {
      "image/png": "[encoded data removed]",
      "text/plain": [
       "<Figure size 640x480 with 1 Axes>"
      ]
     },
     "metadata": {},
     "output_type": "display_data"
    }
   ],
   "source": [
    "from shash.shash_torch import Shash\n",
    "\n",
    "sample = 1\n",
    "x = np.arange(-13,13,.01)\n",
    "dist = Shash(mu=pred[sample,0], sigma=pred[sample,1], gamma=pred[sample,2], tau=pred[sample,3])\n",
    "p = dist.prob(torch.tensor(x))\n",
    "\n",
    "plt.plot(x, p)"
   ]
  }
 ],
 "metadata": {
  "kernelspec": {
   "display_name": "env-torch-sonoma",
   "language": "python",
   "name": "python3"
  },
  "language_info": {
   "codemirror_mode": {
    "name": "ipython",
    "version": 3
   },
   "file_extension": ".py",
   "mimetype": "text/x-python",
   "name": "python",
   "nbconvert_exporter": "python",
   "pygments_lexer": "ipython3",
   "version": "3.10.10"
  }
 },
 "nbformat": 4,
 "nbformat_minor": 2
}
