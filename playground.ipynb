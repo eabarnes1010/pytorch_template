{
 "cells": [
  {
   "cell_type": "code",
   "execution_count": null,
   "metadata": {},
   "outputs": [],
   "source": [
    "import torch\n",
    "import pickle\n",
    "import random\n",
    "import matplotlib.pyplot as plt\n",
    "import numpy as np\n",
    "\n",
    "import torchinfo\n",
    "import importlib as imp\n",
    "\n",
    "import data_loader.data_loader as data_loader\n",
    "from trainer.trainer import Trainer\n",
    "from model.model import TorchModel\n",
    "from utils import utils\n",
    "import model.loss as module_loss\n",
    "import model.metric as module_metric\n",
    "\n",
    "torch.set_warn_always(False)\n",
    "\n",
    "# https://github.com/victoresque/pytorch-template/tree/master\n",
    "\n",
    "# TODO: change from settings to config files"
   ]
  },
  {
   "cell_type": "code",
   "execution_count": null,
   "metadata": {},
   "outputs": [],
   "source": [
    "settings = {\n",
    "    \"batch_size\": 32,\n",
    "    \"device\": \"gpu\",\n",
    "    \"max_epochs\": 10_000,\n",
    "    \"learning_rate\": 0.00001,\n",
    "    \"patience\": 2,\n",
    "    \"min_delta\": 0.02,\n",
    "    \"criterion\": \"ShashNLL\",\n",
    "    \"metrics\": (\"custom_mae\", \"iqr_capture\", \"sign_test\"),\n",
    "}"
   ]
  },
  {
   "cell_type": "code",
   "execution_count": null,
   "metadata": {},
   "outputs": [],
   "source": [
    "trainset = data_loader.CustomData(\"data/train_data.pickle\")\n",
    "valset = data_loader.CustomData(\"data/val_data.pickle\")\n",
    "train_loader = torch.utils.data.DataLoader(\n",
    "    trainset, batch_size=settings[\"batch_size\"], shuffle=True\n",
    ")\n",
    "val_loader = torch.utils.data.DataLoader(\n",
    "    valset, batch_size=settings[\"batch_size\"], shuffle=False\n",
    ")"
   ]
  },
  {
   "cell_type": "code",
   "execution_count": null,
   "metadata": {},
   "outputs": [],
   "source": [
    "criterion = getattr(module_loss, settings['criterion'])()\n",
    "criterion"
   ]
  },
  {
   "cell_type": "code",
   "execution_count": null,
   "metadata": {},
   "outputs": [],
   "source": [
    "SEED = 44\n",
    "torch.manual_seed(SEED)\n",
    "torch.cuda.manual_seed(SEED)\n",
    "np.random.seed(SEED)\n",
    "random.seed(SEED)\n",
    "torch.backends.cudnn.deterministic = True\n",
    "\n",
    "\n",
    "trainset = data_loader.CustomData(\"data/train_data.pickle\")\n",
    "valset = data_loader.CustomData(\"data/val_data.pickle\")\n",
    "train_loader = torch.utils.data.DataLoader(\n",
    "    trainset,\n",
    "    batch_size=settings[\"batch_size\"],\n",
    "    shuffle=True,\n",
    "    drop_last=False,\n",
    ")\n",
    "val_loader = torch.utils.data.DataLoader(\n",
    "    valset,\n",
    "    batch_size=settings[\"batch_size\"],\n",
    "    shuffle=False,\n",
    "    drop_last=False,\n",
    ")\n",
    "\n",
    "model = TorchModel(target=trainset.target)\n",
    "model.freeze_layers(freeze_id=\"tau\")\n",
    "device = utils.prepare_device(settings[\"device\"])\n",
    "\n",
    "criterion = getattr(module_loss, settings['criterion'])()\n",
    "optimizer = torch.optim.Adam(model.parameters(), lr=settings[\"learning_rate\"])\n",
    "metric_funcs = [getattr(module_metric, met) for met in settings[\"metrics\"]]\n",
    "\n",
    "trainer = Trainer(\n",
    "    model,\n",
    "    criterion,\n",
    "    metric_funcs,\n",
    "    optimizer,\n",
    "    max_epochs=settings[\"max_epochs\"],\n",
    "    device=device,\n",
    "    data_loader=train_loader,\n",
    "    validation_data_loader=val_loader,\n",
    "    settings=settings,\n",
    ")\n",
    "\n",
    "# torchinfo.summary(\n",
    "#     model,\n",
    "#     [\n",
    "#         trainset.input[: settings[\"batch_size\"]].shape,\n",
    "#         trainset.input_unit[: settings[\"batch_size\"]].shape,\n",
    "#     ],\n",
    "#     verbose=0,\n",
    "# )"
   ]
  },
  {
   "cell_type": "code",
   "execution_count": null,
   "metadata": {},
   "outputs": [],
   "source": [
    "model = model.to(device)\n",
    "trainer.fit()"
   ]
  },
  {
   "cell_type": "code",
   "execution_count": null,
   "metadata": {},
   "outputs": [],
   "source": [
    "print(trainer.log.history.keys())\n",
    "\n",
    "plt.figure(figsize=(16,4))\n",
    "for i, m in enumerate((\"loss\", *settings[\"metrics\"])):\n",
    "    plt.subplot(1,4,i+1)\n",
    "    plt.plot(trainer.log.history[\"epoch\"], trainer.log.history[m], label=m)\n",
    "    plt.plot(\n",
    "        trainer.log.history[\"epoch\"], trainer.log.history[\"val_\" + m], label=\"val_\" + m\n",
    "    )\n",
    "    plt.legend()\n",
    "plt.tight_layout()\n",
    "plt.show()"
   ]
  },
  {
   "cell_type": "code",
   "execution_count": null,
   "metadata": {},
   "outputs": [],
   "source": [
    "input = torch.Tensor(valset.input[:3]).to(device)\n",
    "input_unit = torch.Tensor(valset.input_unit[:3]).to(device)\n",
    "with torch.no_grad():\n",
    "    pred = model(input, input_unit)\n",
    "pred = pred.cpu().numpy()\n",
    "pred"
   ]
  },
  {
   "cell_type": "code",
   "execution_count": null,
   "metadata": {},
   "outputs": [],
   "source": [
    "from shash.shash_torch import Shash\n",
    "\n",
    "sample = 1\n",
    "x = np.arange(-13, 13, 0.01)\n",
    "dist = Shash(\n",
    "    mu=pred[sample, 0],\n",
    "    sigma=pred[sample, 1],\n",
    "    gamma=pred[sample, 2],\n",
    "    tau=pred[sample, 3],\n",
    ")\n",
    "p = dist.prob(torch.tensor(x))\n",
    "\n",
    "plt.plot(x, p)"
   ]
  },
  {
   "cell_type": "code",
   "execution_count": null,
   "metadata": {},
   "outputs": [],
   "source": []
  }
 ],
 "metadata": {
  "kernelspec": {
   "display_name": "env-torch-sonoma",
   "language": "python",
   "name": "python3"
  },
  "language_info": {
   "codemirror_mode": {
    "name": "ipython",
    "version": 3
   },
   "file_extension": ".py",
   "mimetype": "text/x-python",
   "name": "python",
   "nbconvert_exporter": "python",
   "pygments_lexer": "ipython3",
   "version": "3.10.10"
  }
 },
 "nbformat": 4,
 "nbformat_minor": 2
}
